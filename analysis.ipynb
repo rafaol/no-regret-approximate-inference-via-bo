{
 "cells": [
  {
   "cell_type": "code",
   "execution_count": 1,
   "metadata": {
    "collapsed": true
   },
   "outputs": [],
   "source": [
    "import glob\n",
    "import os\n",
    "\n",
    "import torch\n",
    "import matplotlib.pyplot as plt\n",
    "import numpy as np\n",
    "import yaml\n",
    "\n",
    "from dbo.util import configure_matplotlib\n",
    "\n",
    "configure_matplotlib()"
   ]
  },
  {
   "cell_type": "code",
   "execution_count": 2,
   "outputs": [],
   "source": [
    "def plot_average(run_results: torch.Tensor, t_points=None, n_std: int = 1, c='b', ls='-', label=None):\n",
    "    if not torch.is_tensor(run_results):\n",
    "        run_results = torch.as_tensor(run_results)\n",
    "    assert run_results.ndim > 1\n",
    "    n = run_results.shape[1]\n",
    "    iterations = np.arange(n) + 1\n",
    "    if t_points is None:\n",
    "        t_points = iterations\n",
    "    filtered_idx = torch.isfinite(run_results).all(dim=0)\n",
    "    filtered_results = run_results[:, filtered_idx]\n",
    "    filtered_t_points = t_points[filtered_idx]\n",
    "    filtered_iterations = iterations[filtered_idx]\n",
    "    r_avg = filtered_results.cumsum(-1)/filtered_iterations\n",
    "    r_mean = r_avg.mean(dim=0)\n",
    "    r_std = r_avg.std(dim=0)\n",
    "    plt.fill_between(filtered_t_points, r_mean - n_std*r_std, r_mean + n_std*r_std, color=c, alpha=0.3)\n",
    "    plt.plot(filtered_t_points, r_mean, color=c, ls=ls, label=label)"
   ],
   "metadata": {
    "collapsed": false,
    "pycharm": {
     "name": "#%%\n"
    }
   }
  },
  {
   "cell_type": "code",
   "execution_count": 3,
   "outputs": [],
   "source": [
    "def load_dbo_results(exp_dir, n_reruns):\n",
    "    gs = []\n",
    "    kl = []\n",
    "    elbo = []\n",
    "    bound = []\n",
    "    for r in range(n_reruns):\n",
    "        gs += [torch.load(os.path.join(exp_dir, f\"run-{r+1:02}\", \"dbo-gs_divergences.pth\"))]\n",
    "        kl += [torch.load(os.path.join(exp_dir, f\"run-{r+1:02}\", \"dbo-divergences.pth\"))]\n",
    "        elbo += [torch.load(os.path.join(exp_dir, f\"run-{r+1:02}\", \"dbo-elbo.pth\"))]\n",
    "        bound += [torch.load(os.path.join(exp_dir, f\"run-{r+1:02}\", \"dbo-bounds.pth\"))]\n",
    "    gs = torch.stack(gs)\n",
    "    kl = torch.stack(kl)\n",
    "    elbo = torch.stack(elbo)\n",
    "    bound = torch.stack(bound)\n",
    "    return gs, kl, elbo, bound"
   ],
   "metadata": {
    "collapsed": false,
    "pycharm": {
     "name": "#%%\n"
    }
   }
  },
  {
   "cell_type": "markdown",
   "source": [
    "## RKHS objective"
   ],
   "metadata": {
    "collapsed": false,
    "pycharm": {
     "name": "#%% md\n"
    }
   }
  },
  {
   "cell_type": "code",
   "execution_count": 4,
   "outputs": [],
   "source": [
    "run_dirs = glob.glob(\"cr-version/toy-1D/run-*\")\n",
    "kl_divergences = []\n",
    "kl_bounds = []\n",
    "for rd in run_dirs:\n",
    "    kl_divergences += [torch.load(f\"{rd}/dbo-divergences.pth\")]\n",
    "    kl_bounds += [torch.load(f\"{rd}/dbo-bounds.pth\")]\n",
    "kl_divergences = torch.stack(kl_divergences)\n",
    "kl_bounds = torch.stack(kl_bounds)"
   ],
   "metadata": {
    "collapsed": false,
    "pycharm": {
     "name": "#%%\n"
    }
   }
  },
  {
   "cell_type": "code",
   "execution_count": 5,
   "outputs": [
    {
     "data": {
      "text/plain": "<Figure size 216x180 with 1 Axes>",
      "image/png": "[encoded data removed]"
     },
     "metadata": {
      "needs_background": "light"
     },
     "output_type": "display_data"
    }
   ],
   "source": [
    "n_it = kl_divergences.shape[1]\n",
    "n_batch = 5\n",
    "t = (torch.arange(n_it) + 1)*n_batch\n",
    "\n",
    "plt.figure(figsize=(3,2.5))\n",
    "plot_average(kl_bounds, t_points=t, c='k', ls='--', label=\"Bounds\")\n",
    "plot_average(kl_divergences, t_points=t, c='b', label=\"KL divergence\")\n",
    "plt.legend()\n",
    "plt.ylim(.075, 10)\n",
    "plt.xlabel(\"Evaluations\")\n",
    "plt.xlim(n_batch, n_it*n_batch)\n",
    "plt.yscale('log')\n",
    "plt.tight_layout()\n",
    "plt.savefig(\"toy-regret.png\", dpi=300)"
   ],
   "metadata": {
    "collapsed": false,
    "pycharm": {
     "name": "#%%\n"
    }
   }
  },
  {
   "cell_type": "markdown",
   "source": [
    "### Dimensionality effects"
   ],
   "metadata": {
    "collapsed": false,
    "pycharm": {
     "name": "#%% md\n"
    }
   }
  },
  {
   "cell_type": "code",
   "execution_count": 6,
   "outputs": [],
   "source": [
    "experiment_dirs = [\"experiments/toy-2021-02-19-105524/\",\n",
    "                   \"experiments/toy-2021-02-19-105618/\",\n",
    "                   \"experiments/toy-2021-02-19-130124\"]\n",
    "n_runs = 5\n",
    "n_exp = len(experiment_dirs)\n",
    "dim_kl_divergences = np.zeros((n_runs, n_exp+1))\n",
    "n_dims = np.zeros(n_exp+1)\n",
    "for i, ed in enumerate(experiment_dirs):\n",
    "    config = yaml.load(open(os.path.join(ed, \"toy-args.yaml\")), Loader=yaml.Loader)\n",
    "    n_dims[i] = config.dimensionality\n",
    "    for r in range(n_runs):\n",
    "        dim_kl_divergences[r, i] = torch.load(os.path.join(ed, f\"run-{r+1:02}/dbo-divergences.pth\"))[-1].cpu().item()\n",
    "\n",
    "dim_kl_divergences[:, -1] = kl_divergences[:n_runs, -1]\n",
    "n_dims[-1] = 1"
   ],
   "metadata": {
    "collapsed": false,
    "pycharm": {
     "name": "#%%\n"
    }
   }
  },
  {
   "cell_type": "code",
   "execution_count": 7,
   "outputs": [
    {
     "data": {
      "text/plain": "<Figure size 216x216 with 1 Axes>",
      "image/png": "[encoded data removed]"
     },
     "metadata": {
      "needs_background": "light"
     },
     "output_type": "display_data"
    }
   ],
   "source": [
    "plt.figure(figsize=(3,3))\n",
    "plt.boxplot(dim_kl_divergences, positions=n_dims)\n",
    "plt.xlabel(\"Dimension\")\n",
    "plt.ylabel(\"Average regret\")\n",
    "plt.tight_layout()\n",
    "plt.savefig(\"toy-dimensionality.png\", dpi=300)"
   ],
   "metadata": {
    "collapsed": false,
    "pycharm": {
     "name": "#%%\n"
    }
   }
  },
  {
   "cell_type": "markdown",
   "source": [
    "## Lumpy 2D"
   ],
   "metadata": {
    "collapsed": false,
    "pycharm": {
     "name": "#%% md\n"
    }
   }
  },
  {
   "cell_type": "code",
   "execution_count": 8,
   "outputs": [],
   "source": [
    "dbo_lumpy_exp_dir = \"experiments/toy-2021-02-21-042935\"\n",
    "config = yaml.load(open(os.path.join(dbo_lumpy_exp_dir, \"toy-args.yaml\")), Loader=yaml.Loader)\n",
    "assert config.objective == 'MixtureObjective'\n",
    "n_runs = config.n_repeats\n",
    "dbo_lumpy_gs, dbo_lumpy_kl, dbo_lumpy_elbo, dbo_lumpy_bound = load_dbo_results(dbo_lumpy_exp_dir, n_runs)"
   ],
   "metadata": {
    "collapsed": false,
    "pycharm": {
     "name": "#%%\n"
    }
   }
  },
  {
   "cell_type": "code",
   "execution_count": 9,
   "outputs": [],
   "source": [
    "n_vbmc_runs = 5\n",
    "vbmc_lumpy_gs = []\n",
    "vbmc_lumpy_kl = []\n",
    "vbmc_lumpy_elbo = []\n",
    "vbmc_lumpy_evals = []\n",
    "vbmc_dir = \"experiments/uai2021_vbmc_experiments_lumpy\"\n",
    "for r in range(n_vbmc_runs):\n",
    "    vbmc_lumpy_gs += [np.loadtxt(f\"{vbmc_dir}/vbmc-lumpy-run-{r+1:02}-gsKL.csv\", delimiter=',')]\n",
    "    vbmc_lumpy_kl += [np.loadtxt(f\"{vbmc_dir}/vbmc-lumpy-run-{r+1:02}-kl.csv\", delimiter=',')]\n",
    "    vbmc_lumpy_elbo += [np.loadtxt(f\"{vbmc_dir}/vbmc-lumpy-run-{r+1:02}-elbo.csv\", delimiter=',')]\n",
    "    vbmc_lumpy_evals += [np.loadtxt(f\"{vbmc_dir}/vbmc-lumpy-run-{r+1:02}-f_count.csv\", delimiter=',')]\n",
    "vbmc_lumpy_gs = np.stack(vbmc_lumpy_gs)\n",
    "vbmc_lumpy_kl = np.stack(vbmc_lumpy_kl)\n",
    "vbmc_lumpy_elbo = np.stack(vbmc_lumpy_elbo)\n",
    "vbmc_lumpy_evals = np.stack(vbmc_lumpy_evals)"
   ],
   "metadata": {
    "collapsed": false,
    "pycharm": {
     "name": "#%%\n"
    }
   }
  },
  {
   "cell_type": "code",
   "execution_count": 10,
   "outputs": [
    {
     "data": {
      "text/plain": "<Figure size 216x180 with 1 Axes>",
      "image/png": "[encoded data removed]"
     },
     "metadata": {
      "needs_background": "light"
     },
     "output_type": "display_data"
    }
   ],
   "source": [
    "n_it = config.n_iterations\n",
    "t = np.arange(n_it) + 1\n",
    "start_t = 1\n",
    "n_batch = config.n_samples_per_iteration\n",
    "\n",
    "plt.figure(figsize=(3,2.5))\n",
    "plot_average(vbmc_lumpy_gs[:, start_t:], t_points=vbmc_lumpy_evals[0, start_t:], c='r', label='VBMC', ls='--')\n",
    "plot_average(dbo_lumpy_gs, t_points=t*n_batch, c='b', label='KL-UCB')\n",
    "plt.ylabel(\"gsKL\")\n",
    "plt.legend()\n",
    "plt.xlabel(\"Evaluations\")\n",
    "plt.xlim(10, 100)\n",
    "plt.tight_layout()\n",
    "plt.savefig(\"lumpy-gsKL.png\", dpi=300)"
   ],
   "metadata": {
    "collapsed": false,
    "pycharm": {
     "name": "#%%\n"
    }
   }
  },
  {
   "cell_type": "code",
   "execution_count": 11,
   "outputs": [
    {
     "data": {
      "text/plain": "<Figure size 216x180 with 1 Axes>",
      "image/png": "[encoded data removed]"
     },
     "metadata": {
      "needs_background": "light"
     },
     "output_type": "display_data"
    }
   ],
   "source": [
    "start_t = 0\n",
    "plt.figure(figsize=(3,2.5))\n",
    "plot_average(vbmc_lumpy_kl[:, start_t:], t_points=vbmc_lumpy_evals[0, start_t:], c='r', label='VBMC', ls='--')\n",
    "plot_average(dbo_lumpy_kl[:, start_t:], t_points=t[start_t:]*n_batch, c='b', label='KL-UCB')\n",
    "plt.ylabel(\"KL\")\n",
    "plt.ylim(0, 1.5)\n",
    "plt.legend()\n",
    "plt.xlabel(\"Evaluations\")\n",
    "plt.xlim(10, 100)\n",
    "plt.tight_layout()\n",
    "plt.savefig(\"lumpy-kl.png\", dpi=300)"
   ],
   "metadata": {
    "collapsed": false,
    "pycharm": {
     "name": "#%%\n"
    }
   }
  },
  {
   "cell_type": "markdown",
   "source": [
    "## Circular likelihood"
   ],
   "metadata": {
    "collapsed": false,
    "pycharm": {
     "name": "#%% md\n"
    }
   }
  },
  {
   "cell_type": "code",
   "execution_count": 12,
   "outputs": [],
   "source": [
    "n_runs = 5\n",
    "vbmc_circle_gs = []\n",
    "vbmc_circle_elbo = []\n",
    "vbmc_circle_evals = []\n",
    "vbmc_dir = \"experiments/uai2021_vbmc_experiments_circle\"\n",
    "for r in range(n_runs):\n",
    "    vbmc_circle_gs += [np.loadtxt(f\"{vbmc_dir}/vbmc-circle-run-{r+1:02}-sKL_true.csv\", delimiter=',')]\n",
    "    vbmc_circle_elbo += [np.loadtxt(f\"{vbmc_dir}/vbmc-circle-run-{r+1:02}-elbo.csv\", delimiter=',')]\n",
    "    vbmc_circle_evals += [np.loadtxt(f\"{vbmc_dir}/vbmc-circle-run-{r+1:02}-f_count.csv\", delimiter=',')]\n",
    "vbmc_circle_gs = np.stack(vbmc_circle_gs)\n",
    "vbmc_circle_elbo = np.stack(vbmc_circle_elbo)\n",
    "vbmc_circle_evals = np.stack(vbmc_circle_evals)"
   ],
   "metadata": {
    "collapsed": false,
    "pycharm": {
     "name": "#%%\n"
    }
   }
  },
  {
   "cell_type": "code",
   "execution_count": 13,
   "outputs": [],
   "source": [
    "dbo_circle_exp_dir = \"experiments/toy-2021-02-21-000112\"\n",
    "config = yaml.load(open(os.path.join(dbo_circle_exp_dir, \"toy-args.yaml\")), Loader=yaml.Loader)\n",
    "assert config.objective == 'CircularObjective'\n",
    "\n",
    "dbo_circle_gs, dbo_circle_kl, dbo_circle_elbo, dbo_circle_bound = load_dbo_results(dbo_circle_exp_dir, n_runs)"
   ],
   "metadata": {
    "collapsed": false,
    "pycharm": {
     "name": "#%%\n"
    }
   }
  },
  {
   "cell_type": "code",
   "execution_count": 14,
   "outputs": [
    {
     "data": {
      "text/plain": "<Figure size 216x180 with 1 Axes>",
      "image/png": "[encoded data removed]"
     },
     "metadata": {
      "needs_background": "light"
     },
     "output_type": "display_data"
    }
   ],
   "source": [
    "n_it = 20\n",
    "t = np.arange(n_it) + 1\n",
    "start_t = 0\n",
    "n_batch = 5\n",
    "\n",
    "plt.figure(figsize=(3,2.5))\n",
    "plot_average(vbmc_circle_gs[:, start_t:], t_points=vbmc_circle_evals[0, start_t:], c='r', label='VBMC', ls='--')\n",
    "plot_average(dbo_circle_gs[:, start_t:], t_points=t[start_t:]*n_batch, c='b', label='KL-UCB')\n",
    "plt.ylabel(\"gsKL\")\n",
    "plt.ylim(0.1, 100)\n",
    "plt.yscale('log')\n",
    "plt.legend()\n",
    "plt.xlabel(\"Evaluations\")\n",
    "plt.xlim(10, 100)\n",
    "plt.tight_layout()\n",
    "plt.savefig(\"circular-gsKL.png\", dpi=300)"
   ],
   "metadata": {
    "collapsed": false,
    "pycharm": {
     "name": "#%%\n"
    }
   }
  },
  {
   "cell_type": "code",
   "execution_count": 15,
   "outputs": [
    {
     "data": {
      "text/plain": "<Figure size 216x180 with 1 Axes>",
      "image/png": "[encoded data removed]"
     },
     "metadata": {
      "needs_background": "light"
     },
     "output_type": "display_data"
    }
   ],
   "source": [
    "plt.figure(figsize=(3,2.5))\n",
    "plot_average(vbmc_circle_elbo[:, start_t:], t_points=vbmc_circle_evals[0, start_t:], c='r', label='VBMC', ls='--')\n",
    "plot_average(dbo_circle_elbo[:, start_t:], t_points=t[start_t:]*n_batch, c='b', label='KL-UCB')\n",
    "plt.ylabel(\"ELBO\")\n",
    "plt.ylim(-5, -2)\n",
    "plt.legend()\n",
    "plt.xlabel(\"Evaluations\")\n",
    "plt.xlim(10, 100)\n",
    "plt.tight_layout()\n",
    "plt.savefig(\"circular-elbo.png\", dpi=300)"
   ],
   "metadata": {
    "collapsed": false,
    "pycharm": {
     "name": "#%%\n"
    }
   }
  },
  {
   "cell_type": "markdown",
   "source": [
    "# Likelihood-free inference"
   ],
   "metadata": {
    "collapsed": false,
    "pycharm": {
     "name": "#%% md\n"
    }
   }
  },
  {
   "cell_type": "code",
   "execution_count": 16,
   "outputs": [],
   "source": [
    "from dbo.util import load_object\n",
    "\n",
    "abc_res = load_object(\"experiments/ABC-result-CartPole-Gaussian-prior.pkl\")"
   ],
   "metadata": {
    "collapsed": false,
    "pycharm": {
     "name": "#%%\n"
    }
   }
  },
  {
   "cell_type": "code",
   "execution_count": 17,
   "outputs": [],
   "source": [
    "from scipy.stats import gaussian_kde\n",
    "from dbo.util import make_grid\n",
    "configure_matplotlib(small_size=12, medium_size=14, bigger_size=16)\n",
    "kde = gaussian_kde(abc_res.samples_array.T)"
   ],
   "metadata": {
    "collapsed": false,
    "pycharm": {
     "name": "#%%\n"
    }
   }
  },
  {
   "cell_type": "code",
   "execution_count": 18,
   "outputs": [],
   "source": [
    "grid = make_grid(-3.,3.,0.03)\n",
    "\n",
    "pdf = kde(grid.T)"
   ],
   "metadata": {
    "collapsed": false,
    "pycharm": {
     "name": "#%%\n"
    }
   }
  },
  {
   "cell_type": "code",
   "execution_count": 19,
   "outputs": [
    {
     "data": {
      "text/plain": "<Figure size 288x216 with 2 Axes>",
      "image/png": "[encoded data removed]"
     },
     "metadata": {
      "needs_background": "light"
     },
     "output_type": "display_data"
    }
   ],
   "source": [
    "v_min = 0\n",
    "v_max = 1.\n",
    "nx = int(grid.shape[0]**0.5)\n",
    "extent = [-3., 3., -3., 3.]\n",
    "\n",
    "plt.figure(figsize=(4,3))\n",
    "plt.imshow(pdf.reshape(nx, nx).T, origin='lower', interpolation='bilinear',\n",
    "           extent=extent, cmap=plt.cm.jet, vmin=v_min, vmax=v_max)\n",
    "plt.plot(0.1, 0.5, \"w*\", label=r\"True $\\theta$\", ms=15, mec='k', mew=2)\n",
    "plt.legend()\n",
    "plt.xlabel(\"Mass of the pole\")\n",
    "plt.ylabel(\"Length of the pole\")\n",
    "plt.colorbar()\n",
    "plt.axis(extent)\n",
    "plt.title(\"Cart-pole posterior\")\n",
    "plt.tight_layout()\n",
    "plt.savefig(\"cartpole-posterior.png\")"
   ],
   "metadata": {
    "collapsed": false,
    "pycharm": {
     "name": "#%%\n"
    }
   }
  },
  {
   "cell_type": "code",
   "execution_count": 20,
   "outputs": [],
   "source": [
    "dbo_final_samples = torch.load(\"experiments/lfi-2021-02-21-074832/run-03/lfi-final_samples.pth\")"
   ],
   "metadata": {
    "collapsed": false,
    "pycharm": {
     "name": "#%%\n"
    }
   }
  },
  {
   "cell_type": "code",
   "execution_count": 21,
   "outputs": [],
   "source": [
    "dbo_kde = gaussian_kde(dbo_final_samples.T)\n",
    "dbo_pdf = dbo_kde(grid.T)"
   ],
   "metadata": {
    "collapsed": false,
    "pycharm": {
     "name": "#%%\n"
    }
   }
  },
  {
   "cell_type": "code",
   "execution_count": 22,
   "outputs": [
    {
     "data": {
      "text/plain": "<Figure size 288x216 with 2 Axes>",
      "image/png": "[encoded data removed]"
     },
     "metadata": {
      "needs_background": "light"
     },
     "output_type": "display_data"
    }
   ],
   "source": [
    "plt.figure(figsize=(4,3))\n",
    "plt.imshow(dbo_pdf.reshape(nx, nx).T, origin='lower', interpolation='bilinear',\n",
    "           extent=extent, cmap=plt.cm.jet, vmin=v_min, vmax=v_max)\n",
    "plt.plot(0.1, 0.5, \"w*\", label=r\"True $\\theta$\", ms=15, mec='k', mew=2)\n",
    "plt.legend()\n",
    "plt.axis(extent)\n",
    "plt.xlabel(\"Mass of the pole\")\n",
    "plt.ylabel(\"Length of the pole\")\n",
    "plt.colorbar()\n",
    "plt.axis(extent)\n",
    "plt.title(\"Cart-pole KL-UCB approximation\")\n",
    "plt.tight_layout()\n",
    "plt.savefig(\"cartpole-dbo-approximation.png\")"
   ],
   "metadata": {
    "collapsed": false,
    "pycharm": {
     "name": "#%%\n"
    }
   }
  },
  {
   "cell_type": "code",
   "execution_count": 23,
   "outputs": [],
   "source": [
    "bolfi_dirs = glob.glob(\"experiments/bolfi-2021-02-21-075*\")\n",
    "\n",
    "bolfi_final_samples = torch.load(os.path.join(bolfi_dirs[0], \"bolfi-final_samples.pth\"))"
   ],
   "metadata": {
    "collapsed": false,
    "pycharm": {
     "name": "#%%\n"
    }
   }
  },
  {
   "cell_type": "code",
   "execution_count": 24,
   "outputs": [],
   "source": [
    "bolfi_kde = gaussian_kde(bolfi_final_samples.T)\n",
    "bolfi_pdf = bolfi_kde(grid.T)"
   ],
   "metadata": {
    "collapsed": false,
    "pycharm": {
     "name": "#%%\n"
    }
   }
  },
  {
   "cell_type": "code",
   "execution_count": 25,
   "outputs": [
    {
     "data": {
      "text/plain": "<Figure size 288x216 with 2 Axes>",
      "image/png": "[encoded data removed]"
     },
     "metadata": {
      "needs_background": "light"
     },
     "output_type": "display_data"
    }
   ],
   "source": [
    "plt.figure(figsize=(4,3))\n",
    "plt.imshow(bolfi_pdf.reshape(nx, nx).T, origin='lower', interpolation='bilinear',\n",
    "           extent=extent, cmap=plt.cm.jet, vmin=v_min, vmax=v_max)\n",
    "plt.plot(0.1, 0.5, \"w*\", label=r\"True $\\theta$\", ms=15, mec='k', mew=2)\n",
    "plt.legend()\n",
    "plt.axis(extent)\n",
    "plt.xlabel(\"Mass of the pole\")\n",
    "plt.ylabel(\"Length of the pole\")\n",
    "plt.colorbar()\n",
    "plt.title(\"Cart-pole GP-UCB approximation\")\n",
    "plt.tight_layout()\n",
    "plt.savefig(\"cartpole-bolfi-approximation.png\")"
   ],
   "metadata": {
    "collapsed": false,
    "pycharm": {
     "name": "#%%\n"
    }
   }
  },
  {
   "cell_type": "markdown",
   "source": [
    "### LFI Reruns"
   ],
   "metadata": {
    "collapsed": false,
    "pycharm": {
     "name": "#%% md\n"
    }
   }
  },
  {
   "cell_type": "code",
   "execution_count": 26,
   "outputs": [],
   "source": [
    "bolfi_dirs = glob.glob(\"experiments/bolfi-2021-02-21-075*\")\n",
    "\n",
    "n_runs = len(bolfi_dirs)\n",
    "n_it = 200\n",
    "bolfi_kl = np.zeros((n_runs, n_it))\n",
    "\n",
    "for i, ed in enumerate(bolfi_dirs):\n",
    "    bolfi_kl[i] = torch.load(os.path.join(ed, \"bolfi-divergences.pth\"))"
   ],
   "metadata": {
    "collapsed": false,
    "pycharm": {
     "name": "#%%\n"
    }
   }
  },
  {
   "cell_type": "code",
   "execution_count": 27,
   "outputs": [],
   "source": [
    "lfi_dir = \"experiments/lfi-2021-02-21-074832\"\n",
    "lfi_kl = []\n",
    "config = yaml.load(open(os.path.join(lfi_dir, \"lfi-args.yaml\")), Loader=yaml.Loader)\n",
    "n_runs = config.n_repeats\n",
    "n_it = config.n_iterations\n",
    "n_batch = config.n_samples_per_iteration\n",
    "for r in range(n_runs):\n",
    "    lfi_kl += [torch.load(os.path.join(lfi_dir, f\"run-{r+1:02}\", \"lfi-divergences.pth\"))]\n",
    "lfi_kl = torch.stack(lfi_kl)"
   ],
   "metadata": {
    "collapsed": false,
    "pycharm": {
     "name": "#%%\n"
    }
   }
  },
  {
   "cell_type": "code",
   "execution_count": 28,
   "outputs": [
    {
     "data": {
      "text/plain": "<Figure size 216x144 with 1 Axes>",
      "image/png": "[encoded data removed]"
     },
     "metadata": {
      "needs_background": "light"
     },
     "output_type": "display_data"
    }
   ],
   "source": [
    "plt.figure(figsize=(3,2))\n",
    "t = np.arange(n_it) + 1\n",
    "plot_average(bolfi_kl, c='g', label='GP-UCB', ls='--')\n",
    "plot_average(lfi_kl, t_points=t*n_batch, c='b', label='KL-UCB')\n",
    "plt.legend()\n",
    "plt.xlim(0,n_it*n_batch)\n",
    "plt.xlabel(\"Evaluations\")\n",
    "plt.ylabel(\"KL\")\n",
    "plt.tight_layout()\n",
    "plt.savefig(\"lfi-regret.png\", dpi=300)"
   ],
   "metadata": {
    "collapsed": false,
    "pycharm": {
     "name": "#%%\n"
    }
   }
  },
  {
   "cell_type": "code",
   "execution_count": 28,
   "outputs": [],
   "source": [],
   "metadata": {
    "collapsed": false,
    "pycharm": {
     "name": "#%%\n"
    }
   }
  }
 ],
 "metadata": {
  "kernelspec": {
   "display_name": "Python 3",
   "language": "python",
   "name": "python3"
  },
  "language_info": {
   "codemirror_mode": {
    "name": "ipython",
    "version": 2
   },
   "file_extension": ".py",
   "mimetype": "text/x-python",
   "name": "python",
   "nbconvert_exporter": "python",
   "pygments_lexer": "ipython2",
   "version": "2.7.6"
  }
 },
 "nbformat": 4,
 "nbformat_minor": 0
}